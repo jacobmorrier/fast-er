{
  "nbformat": 4,
  "nbformat_minor": 0,
  "metadata": {
    "colab": {
      "provenance": [],
      "gpuType": "T4",
      "mount_file_id": "1CoByxEGiSynqBbCIs_UE-Y3ImwlOUDG6",
      "authorship_tag": "ABX9TyM/pWV6TKSg0WxI1KehAknx",
      "include_colab_link": true
    },
    "kernelspec": {
      "name": "python3",
      "display_name": "Python 3"
    },
    "language_info": {
      "name": "python"
    },
    "accelerator": "GPU"
  },
  "cells": [
    {
      "cell_type": "markdown",
      "metadata": {
        "id": "view-in-github",
        "colab_type": "text"
      },
      "source": [
        "<a href=\"https://colab.research.google.com/github/jacobmorrier/fast-er/blob/main/example/Example.ipynb\" target=\"_parent\"><img src=\"https://colab.research.google.com/assets/colab-badge.svg\" alt=\"Open In Colab\"/></a>"
      ]
    },
    {
      "cell_type": "code",
      "execution_count": 1,
      "metadata": {
        "colab": {
          "base_uri": "https://localhost:8080/"
        },
        "id": "k1_Y65v76Du0",
        "outputId": "c14a94a2-7196-47e0-9d41-3149bb566d11"
      },
      "outputs": [
        {
          "output_type": "stream",
          "name": "stdout",
          "text": [
            "Collecting fast-er-link\n",
            "  Downloading fast_er_link-0.2.0-py3-none-any.whl.metadata (1.4 kB)\n",
            "Collecting pyreadr\n",
            "  Downloading pyreadr-0.5.3-cp311-cp311-manylinux_2_17_x86_64.manylinux2014_x86_64.whl.metadata (1.4 kB)\n",
            "Requirement already satisfied: cupy-cuda12x in /usr/local/lib/python3.11/dist-packages (from fast-er-link) (13.3.0)\n",
            "Requirement already satisfied: numpy in /usr/local/lib/python3.11/dist-packages (from fast-er-link) (2.0.2)\n",
            "Requirement already satisfied: pandas in /usr/local/lib/python3.11/dist-packages (from fast-er-link) (2.2.2)\n",
            "Requirement already satisfied: matplotlib in /usr/local/lib/python3.11/dist-packages (from fast-er-link) (3.10.0)\n",
            "Requirement already satisfied: python-dateutil>=2.8.2 in /usr/local/lib/python3.11/dist-packages (from pandas->fast-er-link) (2.8.2)\n",
            "Requirement already satisfied: pytz>=2020.1 in /usr/local/lib/python3.11/dist-packages (from pandas->fast-er-link) (2025.1)\n",
            "Requirement already satisfied: tzdata>=2022.7 in /usr/local/lib/python3.11/dist-packages (from pandas->fast-er-link) (2025.1)\n",
            "Requirement already satisfied: fastrlock>=0.5 in /usr/local/lib/python3.11/dist-packages (from cupy-cuda12x->fast-er-link) (0.8.3)\n",
            "Requirement already satisfied: contourpy>=1.0.1 in /usr/local/lib/python3.11/dist-packages (from matplotlib->fast-er-link) (1.3.1)\n",
            "Requirement already satisfied: cycler>=0.10 in /usr/local/lib/python3.11/dist-packages (from matplotlib->fast-er-link) (0.12.1)\n",
            "Requirement already satisfied: fonttools>=4.22.0 in /usr/local/lib/python3.11/dist-packages (from matplotlib->fast-er-link) (4.56.0)\n",
            "Requirement already satisfied: kiwisolver>=1.3.1 in /usr/local/lib/python3.11/dist-packages (from matplotlib->fast-er-link) (1.4.8)\n",
            "Requirement already satisfied: packaging>=20.0 in /usr/local/lib/python3.11/dist-packages (from matplotlib->fast-er-link) (24.2)\n",
            "Requirement already satisfied: pillow>=8 in /usr/local/lib/python3.11/dist-packages (from matplotlib->fast-er-link) (11.1.0)\n",
            "Requirement already satisfied: pyparsing>=2.3.1 in /usr/local/lib/python3.11/dist-packages (from matplotlib->fast-er-link) (3.2.1)\n",
            "Requirement already satisfied: six>=1.5 in /usr/local/lib/python3.11/dist-packages (from python-dateutil>=2.8.2->pandas->fast-er-link) (1.17.0)\n",
            "Downloading fast_er_link-0.2.0-py3-none-any.whl (20 kB)\n",
            "Downloading pyreadr-0.5.3-cp311-cp311-manylinux_2_17_x86_64.manylinux2014_x86_64.whl (411 kB)\n",
            "\u001b[2K   \u001b[90m━━━━━━━━━━━━━━━━━━━━━━━━━━━━━━━━━━━━━━━━\u001b[0m \u001b[32m411.7/411.7 kB\u001b[0m \u001b[31m10.8 MB/s\u001b[0m eta \u001b[36m0:00:00\u001b[0m\n",
            "\u001b[?25hInstalling collected packages: pyreadr, fast-er-link\n",
            "Successfully installed fast-er-link-0.2.0 pyreadr-0.5.3\n"
          ]
        }
      ],
      "source": [
        "!pip install fast-er-link pyreadr"
      ]
    },
    {
      "cell_type": "code",
      "source": [
        "import faster\n",
        "import numpy as np\n",
        "import pyreadr"
      ],
      "metadata": {
        "id": "0xK-IFk06T8m"
      },
      "execution_count": 2,
      "outputs": []
    },
    {
      "cell_type": "code",
      "source": [
        "# Upload example datasets\n",
        "url_A = \"https://github.com/jacobmorrier/fast-er/blob/main/example/df_A_100000.Rdata?raw=true\"\n",
        "path_A = \"/content/df_A.Rdata\"\n",
        "df_A = pyreadr.read_r(pyreadr.download_file(url_A, path_A), path_A)['df_A']\n",
        "\n",
        "url_B = \"https://github.com/jacobmorrier/fast-er/blob/main/example/df_B_100000.Rdata?raw=true\"\n",
        "path_B = \"/content/df_B.Rdata\"\n",
        "df_B = pyreadr.read_r(pyreadr.download_file(url_B, path_B), path_B)['df_B']\n",
        "\n",
        "df_A['house_number'] = df_A['house_number'].astype(int).astype(str)\n",
        "df_B['house_number'] = df_B['house_number'].astype(int).astype(str)"
      ],
      "metadata": {
        "id": "R4xPadCV6Wa-"
      },
      "execution_count": 4,
      "outputs": []
    },
    {
      "cell_type": "code",
      "source": [
        "print('Number of common observations: ' + '{:,}'.format(len(np.intersect1d(df_A['ncid'], df_B['ncid']))))"
      ],
      "metadata": {
        "id": "tRvIalWt_AY4",
        "colab": {
          "base_uri": "https://localhost:8080/"
        },
        "outputId": "7257afd1-7774-405a-e6ff-7cb39a10cd74"
      },
      "execution_count": 12,
      "outputs": [
        {
          "output_type": "stream",
          "name": "stdout",
          "text": [
            "Number of common observations: 50,000\n"
          ]
        }
      ]
    },
    {
      "cell_type": "code",
      "source": [
        "%%time\n",
        "# Calculation of String Similarity Metrics\n",
        "comp = faster.Comparison(df_A, df_B,\n",
        "                         Vars_Fuzzy_A=['last_name', 'first_name', 'house_number', 'street_name'],\n",
        "                         Vars_Fuzzy_B=['last_name', 'first_name', 'house_number', 'street_name'],\n",
        "                         Vars_Exact_A=['birth_year'], Vars_Exact_B=['birth_year'])\n",
        "\n",
        "comp.fit()\n",
        "\n",
        "# Estimation of the Fellegi-Sunter Model\n",
        "est = faster.Estimation(4, 1, comp.Counts)\n",
        "\n",
        "est.fit()\n",
        "\n",
        "# Linkage\n",
        "link = faster.Linkage(df_A, df_B, comp.Indices, est.Ksi)\n",
        "\n",
        "linked_df = link.transform()"
      ],
      "metadata": {
        "colab": {
          "base_uri": "https://localhost:8080/"
        },
        "id": "wl1FeAYV7FcP",
        "outputId": "03998fb1-c868-4fae-ba1a-965266e27ef4"
      },
      "execution_count": 13,
      "outputs": [
        {
          "output_type": "stream",
          "name": "stdout",
          "text": [
            "Convergence successfully achieved.\n",
            "CPU times: user 22.8 s, sys: 1.61 s, total: 24.4 s\n",
            "Wall time: 28.4 s\n"
          ]
        }
      ]
    },
    {
      "cell_type": "code",
      "source": [
        "%%time\n",
        "merged_df = df_A.merge(df_B, on = ['last_name', 'first_name', 'house_number', 'street_name', 'birth_year'])"
      ],
      "metadata": {
        "id": "tdG8-1nC9EP_",
        "colab": {
          "base_uri": "https://localhost:8080/"
        },
        "outputId": "16bc43bb-6fe9-4925-eecc-e8e260fcd7f9"
      },
      "execution_count": 14,
      "outputs": [
        {
          "output_type": "stream",
          "name": "stdout",
          "text": [
            "CPU times: user 158 ms, sys: 2.91 ms, total: 161 ms\n",
            "Wall time: 163 ms\n"
          ]
        }
      ]
    },
    {
      "cell_type": "code",
      "source": [
        "precision = (linked_df['ncid_A'] == linked_df['ncid_B']).mean()\n",
        "recall = (linked_df['ncid_A'] == linked_df['ncid_B']).sum() / len(np.intersect1d(df_A['ncid'], df_B['ncid']))\n",
        "\n",
        "print('Probabilistic Record Linkage:')\n",
        "print('-----------------------------')\n",
        "print('Precision:', '{:.4f}'.format(precision))\n",
        "print('Recall:', '{:.4f}'.format(recall))"
      ],
      "metadata": {
        "colab": {
          "base_uri": "https://localhost:8080/"
        },
        "id": "80TpcwQh8YLw",
        "outputId": "59f2d326-a135-4b7e-b951-b37ce4d7e8e2"
      },
      "execution_count": 15,
      "outputs": [
        {
          "output_type": "stream",
          "name": "stdout",
          "text": [
            "Probabilistic Record Linkage:\n",
            "-----------------------------\n",
            "Precision: 0.9802\n",
            "Recall: 0.9983\n"
          ]
        }
      ]
    },
    {
      "cell_type": "code",
      "source": [
        "precision = (merged_df['ncid_x'] == merged_df['ncid_y']).mean()\n",
        "recall = (merged_df['ncid_x'] == merged_df['ncid_y']).sum() / len(np.intersect1d(df_A['ncid'], df_B['ncid']))\n",
        "\n",
        "print('\\'Hard\\' Merge:')\n",
        "print('-------------')\n",
        "print('Precision:', '{:.4f}'.format(precision))\n",
        "print('Recall:', '{:.4f}'.format(recall))"
      ],
      "metadata": {
        "colab": {
          "base_uri": "https://localhost:8080/"
        },
        "id": "SOchu2Mmy1Ls",
        "outputId": "00480062-0ae2-4784-afba-05e144f1c04c"
      },
      "execution_count": 19,
      "outputs": [
        {
          "output_type": "stream",
          "name": "stdout",
          "text": [
            "'Hard' Merge:\n",
            "-------------\n",
            "Precision: 1.0000\n",
            "Recall: 0.3645\n"
          ]
        }
      ]
    }
  ]
}